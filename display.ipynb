import pygame, sys
import os

pygame.init()

root_dir = '/home/jc/Documents/AdvancedTopics-INF581/baggamon'

#if running on ubunutu
os.environ["SDL_VIDEODRIVER"] = "dummy"

size = width, height = 340, 240
n_arrows = 24
n_pin = 15

screen = pygame.display.set_mode(size)

board = pygame.image.load(root_dir + "gammon_board.png")
boardrect = board.get_rect()

black = pygame.image.load("black_pin.jpg")
blackrect = black.get_rect()

white = pygame.image.load("white_pin.jpg")
whiterect = white.get_rect()

while 1 :
  #for event in pygame.event.get():
        #if event.type == pygame.QUIT: sys.exit()

  screen.fill((0,0,0))
  screen.blit(board, boardrect)
  pygame.display.flip()
