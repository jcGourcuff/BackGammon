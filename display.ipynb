{
 "cells": [
  {
   "cell_type": "code",
   "execution_count": 1,
   "metadata": {},
   "outputs": [],
   "source": [
    "root_dir = '../Documents/AdvancedTopics-INF581/baggamon/'"
   ]
  },
  {
   "cell_type": "code",
   "execution_count": 2,
   "metadata": {},
   "outputs": [
    {
     "name": "stdout",
     "output_type": "stream",
     "text": [
      "pygame 1.9.6\n",
      "Hello from the pygame community. https://www.pygame.org/contribute.html\n"
     ]
    }
   ],
   "source": [
    "import pygame, sys\n",
    "import os\n",
    "import numpy as np\n",
    "import time"
   ]
  },
  {
   "cell_type": "code",
   "execution_count": 3,
   "metadata": {},
   "outputs": [],
   "source": [
    "#params\n",
    "size = width, height = 800, 800\n",
    "\n",
    "y_high = -55\n",
    "X = [653,262,-53,338]\n",
    "gap = 63\n",
    "y_low = 655\n",
    "pin_size = 47\n"
   ]
  },
  {
   "cell_type": "code",
   "execution_count": 4,
   "metadata": {},
   "outputs": [],
   "source": [
    "class backgamonBoard():\n",
    "    \n",
    "    def __init__(self, delay=.9):\n",
    "        \n",
    "        self.playing = False\n",
    "        self.init()\n",
    "        self.current_state = None\n",
    "        self.delay = delay\n",
    "        \n",
    "    def display(self, board_state):\n",
    "        n = len(board_state) \n",
    "        assert  len(board_state) == 24\n",
    "        positions = [[]]*n\n",
    "\n",
    "        for k in range(n):\n",
    "            nb = board_state[k]\n",
    "            coords = self.generate_pos(k, nb = np.abs(nb))\n",
    "            positions[k] = coords\n",
    "\n",
    "        for k in range(n):\n",
    "            if board_state[k] > 0 :\n",
    "                for x in positions[k]:\n",
    "                    rect = self.black.get_rect()\n",
    "                    self.screen.blit(self.black, x)\n",
    "            elif board_state[k] < 0: \n",
    "                for x in positions[k]:\n",
    "                    rect = self.white.get_rect()\n",
    "                    self.screen.blit(self.white, x)\n",
    "    \n",
    "    def generate_pos(self, k, nb = 0):\n",
    "        if nb ==0:\n",
    "            return []\n",
    "        else :\n",
    "            result =[]\n",
    "            for pin in range(nb):\n",
    "                x,y = X[k//6] ,0\n",
    "\n",
    "                if k//6 <=1 :\n",
    "                    y = y_high + pin*pin_size\n",
    "                    x = x - (k%6)*gap\n",
    "                else :\n",
    "                    y = y_low - pin*pin_size\n",
    "                    x = x + (k%6)*gap\n",
    "                result.append((x,y))\n",
    "            return result\n",
    "\n",
    "    def init(self):\n",
    "        self.screen = pygame.display.set_mode(size)\n",
    "\n",
    "        self.board = pygame.image.load(root_dir + \"gammon_board.png\")\n",
    "        self.boardrect = self.board.get_rect()    \n",
    "\n",
    "        white = pygame.image.load(root_dir + \"white_pin.bmp\")\n",
    "        self.white = pygame.transform.scale(white, (200,200))\n",
    "\n",
    "        black = pygame.image.load(root_dir + \"black_pin.bmp\")\n",
    "        self.black = pygame.transform.scale(black, (200,200))\n",
    "\n",
    "    \n",
    "    def play(self, input, delay = None):\n",
    "        if delay is None : \n",
    "            delay = self.delay\n",
    "        self.playing = True\n",
    "        count= 0\n",
    "        pygame.init()\n",
    "        nb_i = 1\n",
    "        state = input\n",
    "        if type(state[0])!= int :\n",
    "            nb_i = len(state)\n",
    "        \n",
    "        while(self.playing and count < nb_i):\n",
    "            for event in pygame.event.get():\n",
    "                if event.type == pygame.QUIT:\n",
    "                    pygame.display.quit()\n",
    "                    sys.exit()\n",
    "                    self.playing = False\n",
    "            \n",
    "            self.screen.fill((255,255,255))\n",
    "            if type(state[0])==int :\n",
    "                self.display_one_state(state)\n",
    "            else :\n",
    "                self.display_one_state(state[count])\n",
    "            count +=1\n",
    "            pygame.display.update()\n",
    "            time.sleep(delay)\n",
    "                    \n",
    "    def display_one_state(self, board_state):\n",
    "            self.screen.blit(self.board, self.boardrect)\n",
    "            self.display(board_state)\n",
    "                \n",
    "    def kill(self):\n",
    "        pygame.display.quit()\n",
    "        sys.exit()\n",
    "        self.playing=False\n",
    "        "
   ]
  },
  {
   "cell_type": "code",
   "execution_count": 5,
   "metadata": {},
   "outputs": [],
   "source": [
    "game = backgamonBoard(delay=1)\n",
    "state0 = [2,0,0,0,0,-5,0,-3,0,0,0,5,-5,0,0,0,3,0,5,0,0,0,0,-2]\n",
    "state1 = [2,0,-5,0,0,-4,0,-3,0,6,0,5,-5,0,-4,0,3,0,5,0,0,7,0,-2]"
   ]
  },
  {
   "cell_type": "code",
   "execution_count": 6,
   "metadata": {},
   "outputs": [],
   "source": [
    "game.play(state0)"
   ]
  },
  {
   "cell_type": "code",
   "execution_count": 7,
   "metadata": {},
   "outputs": [],
   "source": [
    "game.play(state1, delay = 0.5)"
   ]
  },
  {
   "cell_type": "code",
   "execution_count": 8,
   "metadata": {},
   "outputs": [],
   "source": [
    "game.play([state0,state1], 0.7)"
   ]
  },
  {
   "cell_type": "code",
   "execution_count": null,
   "metadata": {},
   "outputs": [],
   "source": [
    "game"
   ]
  },
  {
   "cell_type": "code",
   "execution_count": null,
   "metadata": {},
   "outputs": [],
   "source": []
  }
 ],
 "metadata": {
  "kernelspec": {
   "display_name": "Python 3",
   "language": "python",
   "name": "python3"
  },
  "language_info": {
   "codemirror_mode": {
    "name": "ipython",
    "version": 3
   },
   "file_extension": ".py",
   "mimetype": "text/x-python",
   "name": "python",
   "nbconvert_exporter": "python",
   "pygments_lexer": "ipython3",
   "version": "3.7.5"
  }
 },
 "nbformat": 4,
 "nbformat_minor": 4
}
